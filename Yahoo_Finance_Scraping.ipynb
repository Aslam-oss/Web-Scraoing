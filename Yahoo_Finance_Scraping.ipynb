{
  "nbformat": 4,
  "nbformat_minor": 0,
  "metadata": {
    "colab": {
      "name": "Yahoo Finance Scraping.ipynb",
      "provenance": []
    },
    "kernelspec": {
      "name": "python3",
      "display_name": "Python 3"
    },
    "language_info": {
      "name": "python"
    }
  },
  "cells": [
    {
      "cell_type": "markdown",
      "metadata": {
        "id": "R9fcy8vXzaVJ"
      },
      "source": [
        "IMPORTING REQUIRED MODULES"
      ]
    },
    {
      "cell_type": "code",
      "metadata": {
        "id": "wyraBANuzUQb"
      },
      "source": [
        "import re\n",
        "import csv\n",
        "import json\n",
        "from io import StringIO\n",
        "from bs4 import BeautifulSoup\n",
        "import requests\n",
        "import pandas as pd"
      ],
      "execution_count": 2,
      "outputs": []
    },
    {
      "cell_type": "markdown",
      "metadata": {
        "id": "A2Ha9Gk3ziZ2"
      },
      "source": [
        "OPEN A OUTPUT CSV FILE"
      ]
    },
    {
      "cell_type": "code",
      "metadata": {
        "colab": {
          "base_uri": "https://localhost:8080/"
        },
        "id": "2_QUs1czzgEo",
        "outputId": "73c09c18-1722-4e13-beba-d0be6fef7366"
      },
      "source": [
        "outputfile = open('financialstats.csv', 'w', newline='')\n",
        "outputWriter = csv.writer(outputfile)\n",
        "outputWriter.writerow([\"Name\", \"CurrentRatio\", \"DebToEQRatio\", \"Return On Assets\", \"Return on Earning\", \"Net Profit\",\"RevenueGrowth(yoy)\"])"
      ],
      "execution_count": 3,
      "outputs": [
        {
          "output_type": "execute_result",
          "data": {
            "text/plain": [
              "97"
            ]
          },
          "metadata": {
            "tags": []
          },
          "execution_count": 3
        }
      ]
    },
    {
      "cell_type": "markdown",
      "metadata": {
        "id": "rK5eU3wwzgiL"
      },
      "source": [
        "REQUESTING AND WRITING DATA TO CSV FILE"
      ]
    },
    {
      "cell_type": "code",
      "metadata": {
        "id": "p5m7LkZWzwja"
      },
      "source": [
        "url_stats = \"https://in.finance.yahoo.com/quote/{}/key-statistics?p={}\"\n",
        "stocks = ['TITAN.NS','BHARTIARTL.NS','TECHM.NS','TINPLATE.NS','TITAN.NS','TORNTPHARM','HDFCLIFE.NS','ULTRACEMCO.NS','ICICIBANK.NS','SHREECEM.NS','BAJFINANCE.NS','CIPLA.NS','BAJAJ-AUTO.NS','KOTAKBANK.NS','TATACONSUM.NS','TECHM.NS','TCS.NS','MARUTI.NS','NTPC.NS','BRITANNIA.NS','WIPRO.NS','ONGC.NS','LT.NS','INDUSINDBK.NS','NESTLEIND.NS','GRASIM.NS','TATASTEEL.NS','HINDALCO.NS','COALINDIA.NS','3IINFOTECH.BO','HFCL.NS','TRIDENT.NS','PNB.NS','JPPOWER.NS','BHEL.NS','IDEA.NS','YESBANK.NS','BAJAJHIND.NS','BANKBARODA.NS','SBIN.NS','SAIL.NS','RENUKA.NS','ITC.NS','UPL.NS','RPOWER.NS','TATAMOTORS.NS','TATAPOWER.NS','TATAMTRDVR-BL.NS','FORTIS-BL.NS','NATIONALUM.NS','LICHFIN.NS','GLENMARK.NS','BIOCON.NS','RELIANCE.NS','ALKYLAMINE.NS','MARKSANS.NS','IBULHSGFIN.NS','SAHYADRI.NS','MRF.NS','MARICO.NS','TATACONSUM.NS','BAJFINANCE.NS','GICHSGFIN.NS','UNIONBANK.NS','BANKBARODA.NS','RBLBANK.NS','FEDERALBNK.NS','BANDHANBNK.NS','AXISBANK.NS','ICICIBANK.NS','KOTAKBANK.NS','HDFCBANK.NS','ZEEL.NS','APOLLO.NS','BALAJITELE.NS','BANKINDIA.NS','BFUTILITIE.NS','BHEL.NS','BPCL.NS','CADILAHC.NS','CANBK.NS','COFORGE.NS','DAAWAT.NS','DELTACORP.NS','DIVISLAB.NS','DLF.NS','DLINKINDIA.NS','EIHOTEL.NS','ESCORT.NS','GILLETTE.NS','GLOBUSSPR.NS','GNA.NS','GSFC.NS','GUJGASLTD.NS','HEROMOTOCO.NS','IGL.NS','IOC.NS','IOLCP.NS','IRCTC.NS','JAICORPLTD.NS','LT.NS','LUPIN.NS','NTPC.NS','PVR.NS','SBILIFE.NS','SUNTV.NS']\n",
        "cr = []\n",
        "deq = []\n",
        "roass = []\n",
        "roeq = []\n",
        "netprofit = []\n",
        "revenue = []\n",
        "\n",
        "for stock in stocks:\n",
        "    try :\n",
        "        response = requests.get(url_stats.format(stock, stock) )\n",
        "        soup = BeautifulSoup(response.text, 'html.parser')\n",
        "        soup.text[:200]\n",
        "        pattern = re.compile(r'\\s--\\sData\\s--\\s')\n",
        "        script_data = soup.find('script', text=pattern).contents[0]\n",
        "        script_data[:500]\n",
        "        start = script_data.find(\"context\")-2\n",
        "        json_data = json.loads(script_data[start:-12])\n",
        "    #json_data['context']['dispatcher']['stores']['QuoteSummaryStore'].keys()\n",
        "        current_ratio = json_data['context']['dispatcher']['stores']['QuoteSummaryStore']['financialData']['currentRatio'].get('fmt', 0)\n",
        "        debt_to_eqr = json_data['context']['dispatcher']['stores']['QuoteSummaryStore']['financialData']['debtToEquity'].get('fmt', 0)\n",
        "        ROA = json_data['context']['dispatcher']['stores']['QuoteSummaryStore']['financialData']['returnOnAssets'].get('fmt', 0)\n",
        "        ROE = json_data['context']['dispatcher']['stores']['QuoteSummaryStore']['financialData']['returnOnEquity'].get('fmt', 0)\n",
        "        net_profit_margin = json_data['context']['dispatcher']['stores']['QuoteSummaryStore']['financialData']['profitMargins'].get('fmt', 0)\n",
        "        revenueGrowth = json_data['context']['dispatcher']['stores']['QuoteSummaryStore']['financialData']['revenueGrowth'].get('fmt', 0)\n",
        "        try : \n",
        "            outputWriter.writerow([stock, current_ratio, debt_to_eqr,ROA, ROE,net_profit_margin, revenueGrowth] )\n",
        "        except KeyError:\n",
        "            continue\n",
        "    except KeyError:\n",
        "        continue\n",
        "#pd.DataFrame({\"Name\": s, \"CurrentRatio\": cr, \"DebToEQRatio\": deq, \"Return On Assets\": roass, \"Return on Earning\": roeq, \"Net Profit\": netprofit,\"RevenueGrowth(yoy)\": revenue})"
      ],
      "execution_count": 5,
      "outputs": []
    },
    {
      "cell_type": "markdown",
      "metadata": {
        "id": "8vMrOn2v0Nv0"
      },
      "source": [
        "CLOSE THE CSV FILE"
      ]
    },
    {
      "cell_type": "code",
      "metadata": {
        "id": "aWs0d6_4zy3N"
      },
      "source": [
        "outputfile.close()"
      ],
      "execution_count": 6,
      "outputs": []
    },
    {
      "cell_type": "code",
      "metadata": {
        "id": "BJ05U9xR0TZb"
      },
      "source": [
        ""
      ],
      "execution_count": null,
      "outputs": []
    }
  ]
}