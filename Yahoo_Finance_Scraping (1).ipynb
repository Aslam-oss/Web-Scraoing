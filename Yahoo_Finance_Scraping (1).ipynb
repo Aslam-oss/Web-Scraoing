{
  "nbformat": 4,
  "nbformat_minor": 0,
  "metadata": {
    "colab": {
      "name": "Yahoo Finance Scraping.ipynb",
      "provenance": []
    },
    "kernelspec": {
      "name": "python3",
      "display_name": "Python 3"
    },
    "language_info": {
      "name": "python"
    }
  },
  "cells": [
    {
      "cell_type": "code",
      "metadata": {
        "id": "7L_0hNPERz9f"
      },
      "source": [
        ""
      ],
      "execution_count": null,
      "outputs": []
    },
    {
      "cell_type": "markdown",
      "metadata": {
        "id": "R9fcy8vXzaVJ"
      },
      "source": [
        "IMPORTING REQUIRED MODULES"
      ]
    },
    {
      "cell_type": "code",
      "metadata": {
        "id": "wyraBANuzUQb"
      },
      "source": [
        "import re\n",
        "import csv\n",
        "import json\n",
        "from io import StringIO\n",
        "from bs4 import BeautifulSoup\n",
        "import requests\n",
        "import pandas as pd"
      ],
      "execution_count": 2,
      "outputs": []
    },
    {
      "cell_type": "markdown",
      "metadata": {
        "id": "A2Ha9Gk3ziZ2"
      },
      "source": [
        "OPEN A OUTPUT CSV FILE"
      ]
    },
    {
      "cell_type": "code",
      "metadata": {
        "colab": {
          "base_uri": "https://localhost:8080/"
        },
        "id": "2_QUs1czzgEo",
        "outputId": "a2dbace1-9646-45db-c358-169a3f5e1576"
      },
      "source": [
        "\n",
        "outputfile = open('financialIN.csv', 'w', newline='')\n",
        "outputWriter = csv.writer(outputfile)\n",
        "outputWriter.writerow(['stockSymbol', 'currentPrice', 'earningsGrowth','ebitda', 'ebitdaMargins','grossMargins', 'grossProfits','current_ratio', 'debt_to_eqr','ROA', 'ROE','net_profit_margin', 'revenueGrowth','operatingCashflow','operatingMargins','profitMargins','quickRatio','revenuePerShare','totalCash','totalCashPerShare','totalDebt','totalRevenue','operatingMargins'])"
      ],
      "execution_count": 3,
      "outputs": [
        {
          "output_type": "execute_result",
          "data": {
            "text/plain": [
              "298"
            ]
          },
          "metadata": {
            "tags": []
          },
          "execution_count": 3
        }
      ]
    },
    {
      "cell_type": "markdown",
      "metadata": {
        "id": "rK5eU3wwzgiL"
      },
      "source": [
        "REQUESTING AND WRITING DATA TO CSV FILE"
      ]
    },
    {
      "cell_type": "code",
      "metadata": {
        "id": "NUSIv5ljR6Ss"
      },
      "source": [
        "url_stats = \"https://in.finance.yahoo.com/quote/{}/key-statistics?p={}\"\n",
        "stocks = ['TITAN.NS','BHARTIARTL.NS','TECHM.NS','TINPLATE.NS','TITAN.NS','TORNTPHARM','HDFCLIFE.NS','ULTRACEMCO.NS','ICICIBANK.NS','SHREECEM.NS','BAJFINANCE.NS','CIPLA.NS','BAJAJ-AUTO.NS','KOTAKBANK.NS','TATACONSUM.NS','TECHM.NS','TCS.NS','MARUTI.NS','NTPC.NS','BRITANNIA.NS','WIPRO.NS','ONGC.NS','LT.NS','INDUSINDBK.NS','NESTLEIND.NS','GRASIM.NS','TATASTEEL.NS','HINDALCO.NS','COALINDIA.NS','3IINFOTECH.BO','HFCL.NS','TRIDENT.NS','PNB.NS','JPPOWER.NS','BHEL.NS','IDEA.NS','YESBANK.NS','BAJAJHIND.NS','BANKBARODA.NS','SBIN.NS','SAIL.NS','RENUKA.NS','ITC.NS','UPL.NS','RPOWER.NS','TATAMOTORS.NS','TATAPOWER.NS','TATAMTRDVR-BL.NS','FORTIS-BL.NS','NATIONALUM.NS','LICHFIN.NS','GLENMARK.NS','BIOCON.NS','RELIANCE.NS','ALKYLAMINE.NS','MARKSANS.NS','IBULHSGFIN.NS','SAHYADRI.NS','MRF.NS','MARICO.NS','TATACONSUM.NS','BAJFINANCE.NS','GICHSGFIN.NS','UNIONBANK.NS','BANKBARODA.NS','RBLBANK.NS','FEDERALBNK.NS','BANDHANBNK.NS','AXISBANK.NS','ICICIBANK.NS','KOTAKBANK.NS','HDFCBANK.NS','ZEEL.NS','APOLLO.NS','BALAJITELE.NS','BANKINDIA.NS','BFUTILITIE.NS','BHEL.NS','BPCL.NS','CADILAHC.NS','CANBK.NS','COFORGE.NS','DAAWAT.NS','DELTACORP.NS','DIVISLAB.NS','DLF.NS','DLINKINDIA.NS','EIHOTEL.NS','ESCORT.NS','GILLETTE.NS','GLOBUSSPR.NS','GNA.NS','GSFC.NS','GUJGASLTD.NS','HEROMOTOCO.NS','IGL.NS','IOC.NS','IOLCP.NS','IRCTC.NS','JAICORPLTD.NS','LT.NS','LUPIN.NS','NTPC.NS','PVR.NS','SBILIFE.NS','SUNTV.NS']\n",
        "cr = []\n",
        "deq = []\n",
        "roass = []\n",
        "roeq = []\n",
        "netprofit = []\n",
        "revenue = []\n",
        "\n",
        "for stock in stocks:\n",
        "    try :\n",
        "        response = requests.get(url_stats.format(stock, stock) )\n",
        "        soup = BeautifulSoup(response.text, 'html.parser')\n",
        "        soup.text[:200]\n",
        "        pattern = re.compile(r'\\s--\\sData\\s--\\s')\n",
        "        script_data = soup.find('script', text=pattern).contents[0]\n",
        "        script_data[:500]\n",
        "        start = script_data.find(\"context\")-2\n",
        "        json_data = json.loads(script_data[start:-12])\n",
        "    #json_data['context']['dispatcher']['stores']['QuoteSummaryStore'].keys()\n",
        "        currentPrice = json_data['context']['dispatcher']['stores']['QuoteSummaryStore']['financialData']['currentPrice'].get('raw', 0)\n",
        "        earningsGrowth = json_data['context']['dispatcher']['stores']['QuoteSummaryStore']['financialData']['earningsGrowth'].get('raw', 0)\n",
        "        ebitda = json_data['context']['dispatcher']['stores']['QuoteSummaryStore']['financialData']['ebitda'].get('raw', 0)\n",
        "        ebitdaMargins = json_data['context']['dispatcher']['stores']['QuoteSummaryStore']['financialData']['ebitdaMargins'].get('raw', 0)\n",
        "        grossMargins = json_data['context']['dispatcher']['stores']['QuoteSummaryStore']['financialData']['grossMargins'].get('raw', 0)\n",
        "        grossProfits = json_data['context']['dispatcher']['stores']['QuoteSummaryStore']['financialData']['grossProfits'].get('raw', 0)\n",
        "        current_ratio = json_data['context']['dispatcher']['stores']['QuoteSummaryStore']['financialData']['currentRatio'].get('raw', 0)\n",
        "        debt_to_eqr = json_data['context']['dispatcher']['stores']['QuoteSummaryStore']['financialData']['debtToEquity'].get('raw', 0)\n",
        "        ROA = json_data['context']['dispatcher']['stores']['QuoteSummaryStore']['financialData']['returnOnAssets'].get('raw', 0)\n",
        "        ROE = json_data['context']['dispatcher']['stores']['QuoteSummaryStore']['financialData']['returnOnEquity'].get('raw', 0)\n",
        "        net_profit_margin = json_data['context']['dispatcher']['stores']['QuoteSummaryStore']['financialData']['profitMargins'].get('raw', 0)\n",
        "        revenueGrowth = json_data['context']['dispatcher']['stores']['QuoteSummaryStore']['financialData']['revenueGrowth'].get('raw', 0)\n",
        "        operatingCashflow = json_data['context']['dispatcher']['stores']['QuoteSummaryStore']['financialData']['operatingCashflow'].get('raw', 0)\n",
        "        operatingMargins = json_data['context']['dispatcher']['stores']['QuoteSummaryStore']['financialData']['operatingMargins'].get('raw', 0)\n",
        "        profitMargins = json_data['context']['dispatcher']['stores']['QuoteSummaryStore']['financialData']['profitMargins'].get('raw', 0)\n",
        "        quickRatio = json_data['context']['dispatcher']['stores']['QuoteSummaryStore']['financialData']['quickRatio'].get('raw', 0)\n",
        "        revenuePerShare = json_data['context']['dispatcher']['stores']['QuoteSummaryStore']['financialData']['revenuePerShare'].get('raw', 0)\n",
        "        totalCash = json_data['context']['dispatcher']['stores']['QuoteSummaryStore']['financialData']['totalCash'].get('raw', 0)\n",
        "        totalCashPerShare = json_data['context']['dispatcher']['stores']['QuoteSummaryStore']['financialData']['totalCashPerShare'].get('raw', 0)\n",
        "        totalDebt = json_data['context']['dispatcher']['stores']['QuoteSummaryStore']['financialData']['totalDebt'].get('raw', 0)\n",
        "        totalRevenue = json_data['context']['dispatcher']['stores']['QuoteSummaryStore']['financialData']['totalRevenue'].get('raw', 0)\n",
        "        operatingMargins = json_data['context']['dispatcher']['stores']['QuoteSummaryStore']['financialData']['operatingMargins'].get('raw', 0)\n",
        "        try : \n",
        "            outputWriter.writerow([stock, currentPrice, earningsGrowth,ebitda, ebitdaMargins,grossMargins, grossProfits,current_ratio, debt_to_eqr,ROA, ROE,net_profit_margin, revenueGrowth,operatingCashflow,operatingMargins,profitMargins,quickRatio,revenuePerShare,totalCash,totalCashPerShare,totalDebt,totalRevenue,operatingMargins] )\n",
        "        except KeyError:\n",
        "            continue\n",
        "    except KeyError:\n",
        "        continue\n",
        "#pd.DataFrame({\"Name\": s, \"CurrentRatio\": cr, \"DebToEQRatio\": deq, \"Return On Assets\": roass, \"Return on Earning\": roeq, \"Net Profit\": netprofit,\"RevenueGrowth(yoy)\": revenue})"
      ],
      "execution_count": 4,
      "outputs": []
    },
    {
      "cell_type": "code",
      "metadata": {
        "id": "_2BziIjzSgYk"
      },
      "source": [
        "outputfile.close()"
      ],
      "execution_count": 5,
      "outputs": []
    },
    {
      "cell_type": "code",
      "metadata": {
        "id": "-Uyd3sNbSigZ"
      },
      "source": [
        ""
      ],
      "execution_count": null,
      "outputs": []
    }
  ]
}